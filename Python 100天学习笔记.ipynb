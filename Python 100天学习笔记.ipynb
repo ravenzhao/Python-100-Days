{
 "nbformat": 4,
 "nbformat_minor": 2,
 "metadata": {
  "language_info": {
   "name": "python",
   "codemirror_mode": {
    "name": "ipython",
    "version": 3
   },
   "version": "3.8.2-final"
  },
  "orig_nbformat": 2,
  "file_extension": ".py",
  "mimetype": "text/x-python",
  "name": "python",
  "npconvert_exporter": "python",
  "pygments_lexer": "ipython3",
  "version": 3,
  "kernelspec": {
   "name": "python38264bit4a1c50f521a0456c8086c01166264fa2",
   "display_name": "Python 3.8.2 64-bit"
  }
 },
 "cells": [
  {
   "cell_type": "markdown",
   "metadata": {},
   "source": [
    "# Python 100天学习笔记"
   ]
  },
  {
   "cell_type": "markdown",
   "metadata": {},
   "source": [
    "## Day 1 初始Python"
   ]
  },
  {
   "cell_type": "markdown",
   "metadata": {},
   "source": [
    "- Python优点：\n",
    "    - 解释型语言：天生具有平台可移植性\n",
    "    - 可扩展性和可嵌入性：在Python中可以调用C/C++代码"
   ]
  },
  {
   "cell_type": "markdown",
   "metadata": {},
   "source": [
    "- Python缺点：\n",
    "    - 执行效率稍低：计算密集型任务可由C/C++编写；\n",
    "    - 代码无法加密\n",
    "    - 在开发时可以选择的框架太多，容易出错。"
   ]
  },
  {
   "cell_type": "code",
   "execution_count": 1,
   "metadata": {},
   "outputs": [
    {
     "name": "stdout",
     "output_type": "stream",
     "text": "sys.version_info(major=3, minor=8, micro=2, releaselevel='final', serial=0)\n3.8.2 (v3.8.2:7b3ab5921f, Feb 24 2020, 17:52:18) \n[Clang 6.0 (clang-600.0.57)]\n"
    }
   ],
   "source": [
    "import sys\n",
    "print(sys.version_info)\n",
    "print(sys.version)"
   ]
  },
  {
   "cell_type": "code",
   "execution_count": 2,
   "metadata": {},
   "outputs": [
    {
     "name": "stdout",
     "output_type": "stream",
     "text": "Hello,World\n"
    }
   ],
   "source": [
    "print(\"Hello,World\")"
   ]
  },
  {
   "cell_type": "code",
   "execution_count": 3,
   "metadata": {},
   "outputs": [],
   "source": [
    "# Python的单行注释以“#”开头"
   ]
  },
  {
   "cell_type": "code",
   "execution_count": 12,
   "metadata": {},
   "outputs": [
    {
     "data": {
      "text/plain": "'\\nPython多行注释\\n以三个引号开头\\n三个引号结尾\\n'"
     },
     "execution_count": 12,
     "metadata": {},
     "output_type": "execute_result"
    }
   ],
   "source": [
    "# VS Code的多行注释\n",
    "# 选中多行\n",
    "# Ctrl+/\n",
    "# 解除注释，相同操作 \n",
    "\"\"\"\n",
    "Python多行注释\n",
    "以三个引号开头\n",
    "三个引号结尾\n",
    "\"\"\""
   ]
  },
  {
   "cell_type": "markdown",
   "metadata": {},
   "source": [
    "### 练习"
   ]
  },
  {
   "cell_type": "code",
   "execution_count": 2,
   "metadata": {},
   "outputs": [
    {
     "name": "stdout",
     "output_type": "stream",
     "text": "The Zen of Python, by Tim Peters\n\nBeautiful is better than ugly.\nExplicit is better than implicit.\nSimple is better than complex.\nComplex is better than complicated.\nFlat is better than nested.\nSparse is better than dense.\nReadability counts.\nSpecial cases aren't special enough to break the rules.\nAlthough practicality beats purity.\nErrors should never pass silently.\nUnless explicitly silenced.\nIn the face of ambiguity, refuse the temptation to guess.\nThere should be one-- and preferably only one --obvious way to do it.\nAlthough that way may not be obvious at first unless you're Dutch.\nNow is better than never.\nAlthough never is often better than *right* now.\nIf the implementation is hard to explain, it's a bad idea.\nIf the implementation is easy to explain, it may be a good idea.\nNamespaces are one honking great idea -- let's do more of those!\n"
    }
   ],
   "source": [
    "import this"
   ]
  },
  {
   "cell_type": "code",
   "execution_count": 3,
   "metadata": {},
   "outputs": [],
   "source": [
    "#绘制一个正方形\n",
    "import turtle\n",
    "turtle.pensize(4)\n",
    "turtle.pencolor('red')\n",
    "\n",
    "turtle.forward(100)\n",
    "turtle.right(90)\n",
    "turtle.forward(100)\n",
    "turtle.right(90)\n",
    "turtle.forward(100)\n",
    "turtle.right(90)\n",
    "turtle.forward(100)\n",
    "\n",
    "turtle.mainloop()"
   ]
  },
  {
   "cell_type": "markdown",
   "metadata": {},
   "source": [
    "## Day 2 语言元素"
   ]
  },
  {
   "cell_type": "markdown",
   "metadata": {},
   "source": [
    "- Python的数据类型：\n",
    "    - 整型\n",
    "    - 浮点型\n",
    "    - 字符串型\n",
    "    - 布尔型\n",
    "    - 复数型"
   ]
  },
  {
   "cell_type": "markdown",
   "metadata": {},
   "source": [
    "变量命名PEP8要求：\n",
    "- 用小写字母拼写，多个单词用下划线连接；\n",
    "- 受保护的实例属性用单个下划线开头；\n",
    "- 私有的实例属性用两个下划线开头。"
   ]
  },
  {
   "cell_type": "code",
   "execution_count": 5,
   "metadata": {},
   "outputs": [
    {
     "name": "stdout",
     "output_type": "stream",
     "text": "<class 'int'>\n"
    }
   ],
   "source": [
    "a = 100\n",
    "print(type(a))"
   ]
  },
  {
   "cell_type": "code",
   "execution_count": 6,
   "metadata": {},
   "outputs": [
    {
     "name": "stdout",
     "output_type": "stream",
     "text": "<class 'float'>\n"
    }
   ],
   "source": [
    "b = 12.345\n",
    "print(type(b))"
   ]
  },
  {
   "cell_type": "code",
   "execution_count": 7,
   "metadata": {},
   "outputs": [
    {
     "name": "stdout",
     "output_type": "stream",
     "text": "<class 'complex'>\n"
    }
   ],
   "source": [
    "c = 1 +5j\n",
    "print(type(c))"
   ]
  },
  {
   "cell_type": "code",
   "execution_count": 8,
   "metadata": {},
   "outputs": [
    {
     "name": "stdout",
     "output_type": "stream",
     "text": "<class 'str'>\n"
    }
   ],
   "source": [
    "d= 'Hello, World'\n",
    "print(type(d))"
   ]
  },
  {
   "cell_type": "code",
   "execution_count": 9,
   "metadata": {},
   "outputs": [
    {
     "name": "stdout",
     "output_type": "stream",
     "text": "<class 'bool'>\n"
    }
   ],
   "source": [
    "e = True\n",
    "print(type(e))"
   ]
  },
  {
   "cell_type": "markdown",
   "metadata": {},
   "source": [
    "- Python内置对变量类型进行转换的函数\n",
    "\n",
    "```Python\n",
    "int()\n",
    "float()\n",
    "str()\n",
    "chr()   #将整数转换成该编码对应的字符串（一个字符）\n",
    "ord()   #将字符串（一个字符）转换成对应的编码（整数）\n",
    "```"
   ]
  },
  {
   "cell_type": "markdown",
   "metadata": {},
   "source": [
    "### 运算符"
   ]
  },
  {
   "cell_type": "markdown",
   "metadata": {},
   "source": [
    "- [][:]     下标、切片\n",
    "- **        指数\n",
    "- ～+-      按位取反，正负号\n",
    "- */%//     乘，除，模，整除\n",
    "- +-        加，减\n",
    "- \\>> <<     右移，左移\n",
    "- &         按位与\n",
    "- ^ \\|      按位异或，按位或\n",
    "- <= < > >= 小于等于，小于，大于，大于等于\n",
    "- == ！=    等于，不等于\n",
    "- is is not 身份运算符\n",
    "- in not in 成员运算符\n",
    "- not or not逻辑运算符\n",
    "- = += -= /= %= //= **= &= ｜= ^= >>= <<= （复合）复制运算符"
   ]
  },
  {
   "cell_type": "markdown",
   "metadata": {},
   "source": [
    "### 练习"
   ]
  },
  {
   "cell_type": "code",
   "execution_count": 16,
   "metadata": {},
   "outputs": [],
   "source": [
    "# 华氏温度转换为摄氏温度\n",
    "def f2c(ftemp):\n",
    "    ctemp = (ftemp-32)/1.8\n",
    "    return ctemp"
   ]
  },
  {
   "cell_type": "code",
   "execution_count": 18,
   "metadata": {},
   "outputs": [
    {
     "name": "stdout",
     "output_type": "stream",
     "text": "半径为4.6米的圆的周长为28.9米，面积为66.5平方米\n"
    }
   ],
   "source": [
    "# 输入半径计算周长和面积\n",
    "import math\n",
    "radius = float(input(\"输入圆的半径：\"))\n",
    "perimeter = 2*math.pi*radius\n",
    "area = math.pi*radius**2\n",
    "print('半径为%.1f米的圆的周长为%.1f米，面积为%.1f平方米'%(radius,perimeter,area))"
   ]
  },
  {
   "cell_type": "code",
   "execution_count": 26,
   "metadata": {},
   "outputs": [
    {
     "name": "stdout",
     "output_type": "stream",
     "text": "2001年不是闰年\n"
    }
   ],
   "source": [
    "# 输入年份判断是不是闰年\n",
    "year = int(input('请输入年份：'))\n",
    "if ((year % 4 == 0 and year % 100 != 0) or year % 400 == 0):\n",
    "    print('%i年是闰年'%(year))\n",
    "else:\n",
    "    print('%i年不是闰年'%(year))"
   ]
  },
  {
   "cell_type": "code",
   "execution_count": null,
   "metadata": {},
   "outputs": [],
   "source": []
  }
 ]
}